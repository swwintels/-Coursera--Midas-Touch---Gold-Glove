{
 "cells": [
  {
   "cell_type": "markdown",
   "metadata": {},
   "source": [
    "This notebook aims to predict Gold Glove winners. It uses Sean Lahman's baseball stats database as its primary source\n",
    "\n",
    "The database used in the model is copyright 1996-2017 by Sean Lahman. It is licensed under a Creative Commons Attribution-ShareAlike 3.0 Unported License.  For details see: http://creativecommons.org/licenses/by-sa/3.0/"
   ]
  },
  {
   "cell_type": "markdown",
   "metadata": {},
   "source": [
    "Import relevant libraries"
   ]
  },
  {
   "cell_type": "code",
   "execution_count": 1,
   "metadata": {},
   "outputs": [
    {
     "name": "stdout",
     "output_type": "stream",
     "text": [
      "Populating the interactive namespace from numpy and matplotlib\n"
     ]
    },
    {
     "name": "stderr",
     "output_type": "stream",
     "text": [
      "C:\\Users\\Simon Wintels\\AppData\\Local\\Continuum\\Anaconda3\\lib\\site-packages\\sklearn\\cross_validation.py:44: DeprecationWarning: This module was deprecated in version 0.18 in favor of the model_selection module into which all the refactored classes and functions are moved. Also note that the interface of the new CV iterators are different from that of this module. This module will be removed in 0.20.\n",
      "  \"This module will be removed in 0.20.\", DeprecationWarning)\n"
     ]
    }
   ],
   "source": [
    "%matplotlib inline\n",
    "%pylab inline\n",
    "\n",
    "import pandas as pd\n",
    "from pandas import DataFrame\n",
    "\n",
    "import numpy as np\n",
    "\n",
    "import boto3\n",
    "import io\n",
    "\n",
    "import xgboost as xgb\n",
    "from xgboost import plot_tree\n",
    "\n",
    "from sklearn.preprocessing import LabelEncoder\n",
    "from sklearn.preprocessing import OneHotEncoder\n",
    "\n",
    "import matplotlib.pyplot as plt\n",
    "plt.rcParams['figure.figsize'] = [16, 10]\n",
    "import seaborn as sns"
   ]
  },
  {
   "cell_type": "markdown",
   "metadata": {},
   "source": [
    "Main definitions"
   ]
  },
  {
   "cell_type": "code",
   "execution_count": 2,
   "metadata": {
    "collapsed": true
   },
   "outputs": [],
   "source": [
    "#Set LOCAL to False if you want to read from AWS S3\n",
    "LOCAL = True\n",
    "LOCAL_FILE_DIR = \"./input/sldb2017/\"\n",
    "BUCKET =\"wintels.coursera.baseball\"\n",
    "\n",
    "YEARS = range(1957,2016)\n",
    "POSITION_GROUPS = [\"INF\"] #[\"P\", \"C\", \"INF\", \"OUTF\" ]\n",
    "POS_IN_GROUPS ={\"INF\":[\"1B\",\"2B\",\"3B\",\"SS\"], \"OUTF\": [\"OF\"], \"P\":[\"P\"],\"C\":[\"C\"]}\n",
    "\n",
    "#YEAR = 2015 #should be removed\n",
    "#POSITION = \"1B\" #should be removed"
   ]
  },
  {
   "cell_type": "markdown",
   "metadata": {},
   "source": [
    "Read 2016 baseball database stored at AWS S3 (or locally)"
   ]
  },
  {
   "cell_type": "code",
   "execution_count": 3,
   "metadata": {
    "collapsed": true
   },
   "outputs": [],
   "source": [
    "def read_df_from_S3(csv_file):\n",
    "    s3 = boto3.client('s3'\n",
    "    #local only\n",
    "                        , aws_access_key_id=\"\",\n",
    "                          aws_secret_access_key=\"\"\n",
    "    #\n",
    "                     )\n",
    "    obj = s3.get_object(Bucket=BUCKET, Key='2017/'+csv_file) \n",
    "    temp_df = pd.read_csv(io.BytesIO(obj[\"Body\"].read()))\n",
    "    return temp_df"
   ]
  },
  {
   "cell_type": "code",
   "execution_count": 4,
   "metadata": {
    "collapsed": true
   },
   "outputs": [],
   "source": [
    "df_master = read_df_from_S3('Master.csv') if not(LOCAL) else pd.read_csv(LOCAL_FILE_DIR+'Master.csv')\n",
    "df_fielding = read_df_from_S3('Fielding.csv') if not(LOCAL) else pd.read_csv(LOCAL_FILE_DIR+'Fielding.csv')\n",
    "df_appearances = read_df_from_S3('Appearances.csv') if not(LOCAL) else pd.read_csv(LOCAL_FILE_DIR+'Appearances.csv')\n",
    "df_batting = read_df_from_S3('Batting.csv') if not(LOCAL) else pd.read_csv(LOCAL_FILE_DIR+'Batting.csv')\n",
    "df_fielding = read_df_from_S3('Fielding.csv') if not(LOCAL) else pd.read_csv(LOCAL_FILE_DIR+'Fielding.csv')\n",
    "df_teams = read_df_from_S3('Teams.csv') if not(LOCAL) else pd.read_csv(LOCAL_FILE_DIR+'Teams.csv')\n",
    "\n",
    "df_gg = read_df_from_S3('ggwinners.csv') if not(LOCAL) else pd.read_csv('./input/ggwinners.csv')"
   ]
  },
  {
   "cell_type": "markdown",
   "metadata": {},
   "source": [
    "Define function to one_hot encode non-numerical features (e.g. \"bats\", \"throws\") to ensure XGBoost can work with them. It creates a column for every possible value in the original column"
   ]
  },
  {
   "cell_type": "code",
   "execution_count": 5,
   "metadata": {
    "collapsed": true
   },
   "outputs": [],
   "source": [
    "def one_hot_encode(column, df, remove=False):\n",
    "\n",
    "    label_encoder = LabelEncoder()\n",
    "    df_recoded = label_encoder.fit_transform(df[column].fillna(\"NA\"))\n",
    "    df_recoded = df_recoded.reshape(df.shape[0],1)\n",
    "    onehot_encoder = OneHotEncoder(sparse=False)\n",
    "    df_recoded = onehot_encoder.fit_transform(df_recoded)\n",
    "\n",
    "    col =[] \n",
    "    for i in range(0,df_recoded.shape[1]):\n",
    "        col.append(column + \"_\"+ label_encoder.classes_[i])\n",
    "    \n",
    "    df_recoded = DataFrame(df_recoded, columns=col)\n",
    "    if(remove):\n",
    "        df.pop(column)\n",
    "    return df_recoded"
   ]
  },
  {
   "cell_type": "markdown",
   "metadata": {},
   "source": [
    "Return a dataframe with all the relevant features by player, given a position and a year"
   ]
  },
  {
   "cell_type": "code",
   "execution_count": 6,
   "metadata": {},
   "outputs": [],
   "source": [
    "def populate_features(position_group, year):\n",
    "    \n",
    "    #Select only active players in the Position group\n",
    "    active_players = df_appearances[df_appearances.yearID==year][\"playerID\"]\n",
    "    df_master_year = df_master[df_master.playerID.isin(active_players)].reset_index(drop=True)\n",
    "       \n",
    "    #Filter out only position in the position group\n",
    "    df_field_group = df_fielding[df_fielding.yearID==year].sort_values(by=['playerID','G'], ascending=[True,False]).drop_duplicates(\"playerID\")\n",
    "    df_field_group = df_field_group[df_field_group.POS.isin(POS_IN_GROUPS[position_group])]\n",
    "    \n",
    "    #Fielding\n",
    "    df_field_group[\"fielding_average\"] = (df_field_group.PO+df_field_group.A)/(df_field_group.PO+df_field_group.A+df_field_group.E)\n",
    "    df_field_group[\"double_play_rate\"] = (df_field_group.DP)/(df_field_group.PO+df_field_group.A+df_field_group.E)\n",
    "    df_field_group[\"putout_vs_assist\"] = (df_field_group.PO)/df_field_group.A\n",
    "    df_field_group[\"activity\"] = (df_field_group.PO+df_field_group.A)/(df_field_group.InnOuts)\n",
    "        \n",
    "    df_master_year = pd.merge(df_master_year, df_field_group,how='inner', on=['playerID','playerID'])    \n",
    "    del df_master_year['yearID']\n",
    "    del df_master_year['lgID']\n",
    "    del df_master_year['stint']\n",
    "        \n",
    "    #Appearances\n",
    "    df_app_group=df_appearances[df_appearances.yearID==year].groupby(df_appearances['playerID']).sum().reset_index()\n",
    "    df_master_year = pd.merge(df_master_year, df_app_group,how='left', on=['playerID','playerID'])\n",
    "    del df_master_year['yearID']\n",
    "    \n",
    "    #Batting\n",
    "    df_bat_group=df_batting[df_batting.yearID==year].groupby(df_batting['playerID']).sum().reset_index()\n",
    "    df_bat_group[\"batting_average\"] = df_bat_group.H / df_bat_group.AB\n",
    "    df_bat_group[\"on_base_percentage\"] = (df_bat_group.H + df_bat_group.BB +df_bat_group.HBP) / (df_bat_group.AB+ df_bat_group.BB+ df_bat_group.HBP+df_bat_group.SF)\n",
    "    df_bat_group[\"1B\"] = df_bat_group.H - df_bat_group[\"2B\"]- df_bat_group[\"3B\"] - df_bat_group.HR\n",
    "    df_bat_group[\"slugging_percentage\"] = (df_bat_group[\"1B\"] + 2*df_bat_group[\"2B\"] +3*df_bat_group[\"3B\"]+4*df_bat_group[\"HR\"]) / df_bat_group.AB\n",
    "    df_bat_group[\"RBI_rate\"] = df_bat_group.RBI / df_bat_group.AB\n",
    "    df_master_year = pd.merge(df_master_year, df_bat_group,how='left', on=['playerID','playerID'])\n",
    "    del df_master_year['yearID']\n",
    "    \n",
    "    #Team performance\n",
    "    df_team_group = df_teams[df_teams.yearID==year][[\"teamID\", \"Rank\", \"W\", \"DivWin\", \"WCWin\",\"LgWin\",\"WSWin\",\"FP\",\"E\"]]\n",
    "    df_team_group[\"E_team\"]=df_team_group.pop(\"E\")\n",
    "                                                    \n",
    "    df_team_group = df_team_group = df_team_group.replace(['Y', 'N'], [1, 0])\n",
    "    df_master_year = pd.merge(df_master_year, df_team_group,how='left', on=['teamID','teamID'])\n",
    "        \n",
    "    #One hot encode several features\n",
    "    df_master_year = pd.concat([df_master_year, one_hot_encode(\"bats\", df_master_year, True)], axis=1)\n",
    "    df_master_year = pd.concat([df_master_year, one_hot_encode(\"throws\", df_master_year, True)], axis=1)\n",
    "    df_master_year = pd.concat([df_master_year, one_hot_encode(\"POS\", df_master_year, True)], axis=1)\n",
    "     \n",
    "    #Other features\n",
    "    df_master_year[\"age_in_season\"] = year - df_master_year[\"birthYear\"]\n",
    "        \n",
    "    #Target label creation\n",
    "    winners = df_gg[(df_gg.Year==year)& (df_gg.Position_group == position_group)]['playerID']\n",
    "    df_master_year[\"won\"]=df_master_year.playerID.isin(winners)*1\n",
    "    df_master_year[\"stat_year\"] = year\n",
    "        \n",
    "    return df_master_year"
   ]
  },
  {
   "cell_type": "markdown",
   "metadata": {},
   "source": [
    "Remove features that won't be used for XGBoost model"
   ]
  },
  {
   "cell_type": "code",
   "execution_count": 7,
   "metadata": {
    "collapsed": true
   },
   "outputs": [],
   "source": [
    "def clean_features(df, feature_names=None):\n",
    "    if(feature_names is None):\n",
    "        not_features = ['playerID','birthYear','birthMonth','birthDay','birthCountry', 'birthState','birthCity','deathYear','deathMonth','deathDay',\n",
    "                        'debut','finalGame','deathCountry','deathState','deathCity','nameFirst','nameLast',\n",
    "                        'nameGiven','retroID','bbrefID','throws_S', 'stint', 'teamID', \n",
    "                        'franchID', 'divID', 'name', 'park',\n",
    "                        'lgID', 'teamIDBR','teamIDlahman45','teamIDretro']\n",
    "        feature_names = [f for f in df.columns if f not in not_features]\n",
    "    return df[feature_names], feature_names"
   ]
  },
  {
   "cell_type": "markdown",
   "metadata": {},
   "source": [
    "Create master dataframe that contains all training data"
   ]
  },
  {
   "cell_type": "code",
   "execution_count": 8,
   "metadata": {},
   "outputs": [],
   "source": [
    "df_train = pd.DataFrame()\n",
    "for position_group in POSITION_GROUPS:\n",
    "    frames = [populate_features(position_group, year) for year in YEARS]\n",
    "    frame_order = frames[0].keys().values # can be removed later\n",
    "    df_train = pd.concat(frames)\n",
    "    df_train = df_train[np.concatenate((frame_order,[c for c in df_train.columns if c not in frame_order]))]\n",
    "    df_features, feature_names = clean_features(df_train)"
   ]
  },
  {
   "cell_type": "code",
   "execution_count": 9,
   "metadata": {},
   "outputs": [
    {
     "name": "stdout",
     "output_type": "stream",
     "text": [
      "Index(['playerID', 'birthYear', 'birthMonth', 'birthDay', 'birthCountry',\n",
      "       'birthState', 'birthCity', 'deathYear', 'deathMonth', 'deathDay',\n",
      "       'deathCountry', 'deathState', 'deathCity', 'nameFirst', 'nameLast',\n",
      "       'nameGiven', 'weight', 'height', 'debut', 'finalGame', 'retroID',\n",
      "       'bbrefID', 'teamID', 'G_x', 'GS_x', 'InnOuts', 'PO', 'A', 'E', 'DP',\n",
      "       'PB', 'WP', 'SB_x', 'CS_x', 'ZR', 'fielding_average',\n",
      "       'double_play_rate', 'putout_vs_assist', 'activity', 'G_all', 'GS_y',\n",
      "       'G_batting', 'G_defense', 'G_p', 'G_c', 'G_1b', 'G_2b', 'G_3b', 'G_ss',\n",
      "       'G_lf', 'G_cf', 'G_rf', 'G_of', 'G_dh', 'G_ph', 'G_pr', 'stint', 'G_y',\n",
      "       'AB', 'R', 'H', '2B', '3B', 'HR', 'RBI', 'SB_y', 'CS_y', 'BB', 'SO',\n",
      "       'IBB', 'HBP', 'SH', 'SF', 'GIDP', 'batting_average',\n",
      "       'on_base_percentage', '1B', 'slugging_percentage', 'RBI_rate', 'Rank',\n",
      "       'W', 'DivWin', 'WCWin', 'LgWin', 'WSWin', 'FP', 'E_team', 'bats_B',\n",
      "       'bats_L', 'bats_R', 'throws_L', 'throws_R', 'POS_1B', 'POS_2B',\n",
      "       'POS_3B', 'POS_SS', 'age_in_season', 'won', 'stat_year'],\n",
      "      dtype='object')\n",
      "(14073, 99)\n"
     ]
    }
   ],
   "source": [
    "print(df_train.keys())\n",
    "print(df_train.shape)"
   ]
  },
  {
   "cell_type": "code",
   "execution_count": 10,
   "metadata": {},
   "outputs": [
    {
     "data": {
      "image/png": "[encoded data removed]",
      "text/plain": [
       "<matplotlib.figure.Figure at 0xae00182cc0>"
      ]
     },
     "metadata": {},
     "output_type": "display_data"
    }
   ],
   "source": [
    "plt.hist(df_train[\"fielding_average\"].dropna(), bins=100)\n",
    "plt.xlabel('Fielding average')\n",
    "plt.ylabel('Number of players')\n",
    "plt.show()"
   ]
  },
  {
   "cell_type": "markdown",
   "metadata": {},
   "source": [
    "Split dataset into two"
   ]
  },
  {
   "cell_type": "code",
   "execution_count": 11,
   "metadata": {},
   "outputs": [
    {
     "name": "stdout",
     "output_type": "stream",
     "text": [
      "(10721, 76)\n",
      "(285, 76)\n"
     ]
    }
   ],
   "source": [
    "Xtr = df_features[df_features.stat_year%4!=0]\n",
    "Xv  = df_features[df_features.stat_year%4==0]\n",
    "ytr = Xtr.pop(\"won\")\n",
    "yv  = Xv.pop(\"won\")\n",
    "\n",
    "df_test_full = populate_features(\"INF\", 2016)\n",
    "df_test, te_feature_names = clean_features(df_test_full, feature_names)\n",
    "yreal = df_test.pop(\"won\")\n",
    "print(Xtr.shape)\n",
    "print(df_test.shape)"
   ]
  },
  {
   "cell_type": "code",
   "execution_count": 12,
   "metadata": {},
   "outputs": [
    {
     "name": "stdout",
     "output_type": "stream",
     "text": [
      "[0]\ttrain-auc:0.838914\ttrain-logloss:0.688681\tvalid-auc:0.832749\tvalid-logloss:0.688757\n",
      "Multiple eval metrics have been passed: 'valid-logloss' will be used for early stopping.\n",
      "\n",
      "Will train until valid-logloss hasn't improved in 50 rounds.\n",
      "[100]\ttrain-auc:0.969063\ttrain-logloss:0.390049\tvalid-auc:0.92216\tvalid-logloss:0.395703\n",
      "[200]\ttrain-auc:0.979238\ttrain-logloss:0.244994\tvalid-auc:0.927222\tvalid-logloss:0.256238\n",
      "[300]\ttrain-auc:0.985316\ttrain-logloss:0.165208\tvalid-auc:0.932741\tvalid-logloss:0.181942\n",
      "[400]\ttrain-auc:0.989011\ttrain-logloss:0.118155\tvalid-auc:0.937776\tvalid-logloss:0.140144\n",
      "[500]\ttrain-auc:0.991609\ttrain-logloss:0.089206\tvalid-auc:0.940467\tvalid-logloss:0.115891\n",
      "[600]\ttrain-auc:0.994153\ttrain-logloss:0.070758\tvalid-auc:0.942121\tvalid-logloss:0.101597\n",
      "[700]\ttrain-auc:0.995664\ttrain-logloss:0.058342\tvalid-auc:0.945069\tvalid-logloss:0.093074\n",
      "[800]\ttrain-auc:0.996694\ttrain-logloss:0.049743\tvalid-auc:0.948925\tvalid-logloss:0.088089\n",
      "[900]\ttrain-auc:0.997378\ttrain-logloss:0.043617\tvalid-auc:0.949614\tvalid-logloss:0.085257\n",
      "[1000]\ttrain-auc:0.997991\ttrain-logloss:0.038831\tvalid-auc:0.950761\tvalid-logloss:0.083486\n",
      "[1100]\ttrain-auc:0.998495\ttrain-logloss:0.03512\tvalid-auc:0.951629\tvalid-logloss:0.082418\n",
      "[1200]\ttrain-auc:0.998828\ttrain-logloss:0.03213\tvalid-auc:0.952268\tvalid-logloss:0.081928\n",
      "[1300]\ttrain-auc:0.999083\ttrain-logloss:0.029596\tvalid-auc:0.952954\tvalid-logloss:0.081599\n",
      "Stopping. Best iteration:\n",
      "[1344]\ttrain-auc:0.999173\ttrain-logloss:0.028571\tvalid-auc:0.953197\tvalid-logloss:0.081529\n",
      "\n",
      "Modeling score 0.08153\n"
     ]
    }
   ],
   "source": [
    "dtrain = xgb.DMatrix(Xtr, label=ytr)\n",
    "dvalid = xgb.DMatrix(Xv, label=yv)\n",
    "dtest = xgb.DMatrix(df_test)\n",
    "\n",
    "watchlist = [(dtrain, 'train'), (dvalid, 'valid')]\n",
    "\n",
    "xgb_pars = {'min_child_weight': 1, 'eta': 0.005, 'colsample_bytree': 0.8, 'max_depth': 8,\n",
    "            'subsample': 0.5, 'lambda': 1.5, 'booster' : 'gbtree', 'silent': 0,\n",
    "            'eval_metric': ['auc','logloss'], 'objective': 'binary:logistic'}\n",
    "\n",
    "model = xgb.train(xgb_pars, dtrain, 2500, watchlist, early_stopping_rounds=50,\n",
    "                  maximize=False, verbose_eval=100)\n",
    "\n",
    "print('Modeling score %.5f' % model.best_score)\n",
    "#t1 = dt.datetime.now()\n",
    "#print('Training time: %i seconds' % (t1 - t0).seconds)\n"
   ]
  },
  {
   "cell_type": "code",
   "execution_count": 13,
   "metadata": {},
   "outputs": [
    {
     "data": {
      "text/html": [
       "<div>\n",
       "<style>\n",
       "    .dataframe thead tr:only-child th {\n",
       "        text-align: right;\n",
       "    }\n",
       "\n",
       "    .dataframe thead th {\n",
       "        text-align: left;\n",
       "    }\n",
       "\n",
       "    .dataframe tbody tr th {\n",
       "        vertical-align: top;\n",
       "    }\n",
       "</style>\n",
       "<table border=\"1\" class=\"dataframe\">\n",
       "  <thead>\n",
       "    <tr style=\"text-align: right;\">\n",
       "      <th></th>\n",
       "      <th>f</th>\n",
       "      <th>importance</th>\n",
       "    </tr>\n",
       "  </thead>\n",
       "  <tbody>\n",
       "    <tr>\n",
       "      <th>9</th>\n",
       "      <td>fielding_average</td>\n",
       "      <td>2376</td>\n",
       "    </tr>\n",
       "    <tr>\n",
       "      <th>28</th>\n",
       "      <td>A</td>\n",
       "      <td>1999</td>\n",
       "    </tr>\n",
       "    <tr>\n",
       "      <th>6</th>\n",
       "      <td>SO</td>\n",
       "      <td>1884</td>\n",
       "    </tr>\n",
       "    <tr>\n",
       "      <th>10</th>\n",
       "      <td>E_team</td>\n",
       "      <td>1825</td>\n",
       "    </tr>\n",
       "    <tr>\n",
       "      <th>23</th>\n",
       "      <td>InnOuts</td>\n",
       "      <td>1821</td>\n",
       "    </tr>\n",
       "    <tr>\n",
       "      <th>19</th>\n",
       "      <td>W</td>\n",
       "      <td>1699</td>\n",
       "    </tr>\n",
       "    <tr>\n",
       "      <th>18</th>\n",
       "      <td>putout_vs_assist</td>\n",
       "      <td>1699</td>\n",
       "    </tr>\n",
       "    <tr>\n",
       "      <th>46</th>\n",
       "      <td>stat_year</td>\n",
       "      <td>1669</td>\n",
       "    </tr>\n",
       "    <tr>\n",
       "      <th>16</th>\n",
       "      <td>SB_y</td>\n",
       "      <td>1604</td>\n",
       "    </tr>\n",
       "    <tr>\n",
       "      <th>8</th>\n",
       "      <td>double_play_rate</td>\n",
       "      <td>1551</td>\n",
       "    </tr>\n",
       "  </tbody>\n",
       "</table>\n",
       "</div>"
      ],
      "text/plain": [
       "                   f  importance\n",
       "9   fielding_average        2376\n",
       "28                 A        1999\n",
       "6                 SO        1884\n",
       "10            E_team        1825\n",
       "23           InnOuts        1821\n",
       "19                 W        1699\n",
       "18  putout_vs_assist        1699\n",
       "46         stat_year        1669\n",
       "16              SB_y        1604\n",
       "8   double_play_rate        1551"
      ]
     },
     "execution_count": 13,
     "metadata": {},
     "output_type": "execute_result"
    }
   ],
   "source": [
    "feature_importance_dict = model.get_fscore()\n",
    "fs = ['f%i' % i for i in range(len(feature_names))]\n",
    "f1 = pd.DataFrame({'f': list(feature_importance_dict.keys()), 'importance': list(feature_importance_dict.values())})\n",
    "feature_importance = f1\n",
    "#feature_importance = feature_importance.fillna(0)\n",
    "feature_importance[['f', 'importance']].sort_values(by='importance', ascending=False).head(10)"
   ]
  },
  {
   "cell_type": "code",
   "execution_count": 14,
   "metadata": {},
   "outputs": [
    {
     "data": {
      "image/png": "[encoded data removed]",
      "text/plain": [
       "<matplotlib.figure.Figure at 0xae0027a278>"
      ]
     },
     "metadata": {},
     "output_type": "display_data"
    }
   ],
   "source": [
    "ypred = pd.DataFrame(model.predict(dtest),columns=[\"win_chance\"])\n",
    "yreal = pd.DataFrame(yreal,columns=[\"won\"])\n",
    "plt.hist(ypred.values, bins=100)\n",
    "plt.yscale('log', nonposy='clip')\n",
    "plt.xlabel('Probability of winning')\n",
    "plt.ylabel('Number of players')\n",
    "plt.show()"
   ]
  },
  {
   "cell_type": "code",
   "execution_count": 15,
   "metadata": {},
   "outputs": [],
   "source": [
    "df_t = pd.concat([df_test_full,ypred], axis=1)\n",
    "df_t.to_csv('predictions.csv')"
   ]
  },
  {
   "cell_type": "markdown",
   "metadata": {},
   "source": [
    "http://m.mlb.com/news/article/207322712/gold-glove-award-finalists/"
   ]
  },
  {
   "cell_type": "code",
   "execution_count": 16,
   "metadata": {},
   "outputs": [],
   "source": [
    "nominated={2016:\n",
    "           [\"dickera01\",\"keuchda01\", \"verlaju01\",\n",
    "            \"mccanja02\",\"perezca02\",\"perezsa02\", \n",
    "            \"davisch02\",\"hosmeer01\",\"morelmi01\",\n",
    "            \"canoro01\",\"kinslia01\", \"pedrodu01\",\n",
    "            \"beltrad01\",\"machama01\",\"seageky01\",\n",
    "            \"iglesjo01\",\"lindofr01\",\"simmoan01\",\n",
    "            \"gardnbr01\",\"gordoal01\",\"rasmuco01\",\n",
    "            \"bradlja02\",\"pillake01\",\"kiermke01\",\n",
    "            \"bettsmo01\",\"eatonad02\",\"springe01\",\n",
    "            \"arrieja01\",\"greinza01\",\"wainwad01\",\n",
    "            \"lucrojo01\",\"molinya01\",\"poseybu01\",\n",
    "            \"goldspa01\",\"myerswi01\",\"rizzoan01\",\n",
    "            \"lemahdj01\",\"panikjo01\",\"segurje01\",\n",
    "            \"arenano01\",\"rendoan01\",\"turneju01\",\n",
    "            \"crawfbr01\",\"galvifr01\",\"russead02\",\n",
    "            \"duvalad01\",\"martest01\",\"yelicch01\",\n",
    "            \"hamilbi02\",\"herreod01\",\"inciaen01\",\n",
    "            \"gonzaca01\",\"heywaja01\",\"markani01\"\n",
    "            ]}\n",
    "\n",
    "df_t[\"nominated\"] = df_t.playerID.isin(nominated[2016])"
   ]
  },
  {
   "cell_type": "markdown",
   "metadata": {},
   "source": [
    "t"
   ]
  },
  {
   "cell_type": "code",
   "execution_count": 17,
   "metadata": {},
   "outputs": [
    {
     "data": {
      "image/png": "[encoded data removed]",
      "text/plain": [
       "<matplotlib.figure.Figure at 0xae02fdc860>"
      ]
     },
     "metadata": {},
     "output_type": "display_data"
    }
   ],
   "source": [
    "df_t.boxplot(column='win_chance', by=['nominated','won'], grid=False)\n",
    "for i in [0,1]:\n",
    "    for j in [0,1]:\n",
    "        y = df_t.win_chance[(df_t.nominated==i)&(df_t.won==j)].dropna()\n",
    "        # Add some random \"jitter\" to the x-axis\n",
    "        x = np.random.normal(i+j+1, 0.02, size=len(y))\n",
    "        plot(x, y, 'r.', alpha=0.6)"
   ]
  },
  {
   "cell_type": "markdown",
   "metadata": {},
   "source": [
    "Winning chances (according to the model) of the actual winners"
   ]
  },
  {
   "cell_type": "code",
   "execution_count": 18,
   "metadata": {},
   "outputs": [
    {
     "data": {
      "text/html": [
       "<div>\n",
       "<style>\n",
       "    .dataframe thead tr:only-child th {\n",
       "        text-align: right;\n",
       "    }\n",
       "\n",
       "    .dataframe thead th {\n",
       "        text-align: left;\n",
       "    }\n",
       "\n",
       "    .dataframe tbody tr th {\n",
       "        vertical-align: top;\n",
       "    }\n",
       "</style>\n",
       "<table border=\"1\" class=\"dataframe\">\n",
       "  <thead>\n",
       "    <tr style=\"text-align: right;\">\n",
       "      <th></th>\n",
       "      <th>playerID</th>\n",
       "      <th>nameFirst</th>\n",
       "      <th>nameLast</th>\n",
       "      <th>win_chance</th>\n",
       "      <th>won</th>\n",
       "      <th>nominated</th>\n",
       "    </tr>\n",
       "  </thead>\n",
       "  <tbody>\n",
       "    <tr>\n",
       "      <th>16</th>\n",
       "      <td>arenano01</td>\n",
       "      <td>Nolan</td>\n",
       "      <td>Arenado</td>\n",
       "      <td>0.652831</td>\n",
       "      <td>1</td>\n",
       "      <td>True</td>\n",
       "    </tr>\n",
       "    <tr>\n",
       "      <th>215</th>\n",
       "      <td>rizzoan01</td>\n",
       "      <td>Anthony</td>\n",
       "      <td>Rizzo</td>\n",
       "      <td>0.477846</td>\n",
       "      <td>1</td>\n",
       "      <td>True</td>\n",
       "    </tr>\n",
       "    <tr>\n",
       "      <th>56</th>\n",
       "      <td>crawfbr01</td>\n",
       "      <td>Brandon</td>\n",
       "      <td>Crawford</td>\n",
       "      <td>0.272504</td>\n",
       "      <td>1</td>\n",
       "      <td>True</td>\n",
       "    </tr>\n",
       "    <tr>\n",
       "      <th>145</th>\n",
       "      <td>lindofr01</td>\n",
       "      <td>Francisco</td>\n",
       "      <td>Lindor</td>\n",
       "      <td>0.232416</td>\n",
       "      <td>1</td>\n",
       "      <td>True</td>\n",
       "    </tr>\n",
       "    <tr>\n",
       "      <th>26</th>\n",
       "      <td>beltrad01</td>\n",
       "      <td>Adrian</td>\n",
       "      <td>Beltre</td>\n",
       "      <td>0.232273</td>\n",
       "      <td>1</td>\n",
       "      <td>True</td>\n",
       "    </tr>\n",
       "    <tr>\n",
       "      <th>135</th>\n",
       "      <td>kinslia01</td>\n",
       "      <td>Ian</td>\n",
       "      <td>Kinsler</td>\n",
       "      <td>0.211539</td>\n",
       "      <td>1</td>\n",
       "      <td>True</td>\n",
       "    </tr>\n",
       "    <tr>\n",
       "      <th>181</th>\n",
       "      <td>panikjo01</td>\n",
       "      <td>Joe</td>\n",
       "      <td>Panik</td>\n",
       "      <td>0.147184</td>\n",
       "      <td>1</td>\n",
       "      <td>True</td>\n",
       "    </tr>\n",
       "    <tr>\n",
       "      <th>166</th>\n",
       "      <td>morelmi01</td>\n",
       "      <td>Mitch</td>\n",
       "      <td>Moreland</td>\n",
       "      <td>0.042088</td>\n",
       "      <td>1</td>\n",
       "      <td>True</td>\n",
       "    </tr>\n",
       "  </tbody>\n",
       "</table>\n",
       "</div>"
      ],
      "text/plain": [
       "      playerID  nameFirst  nameLast  win_chance  won  nominated\n",
       "16   arenano01      Nolan   Arenado    0.652831    1       True\n",
       "215  rizzoan01    Anthony     Rizzo    0.477846    1       True\n",
       "56   crawfbr01    Brandon  Crawford    0.272504    1       True\n",
       "145  lindofr01  Francisco    Lindor    0.232416    1       True\n",
       "26   beltrad01     Adrian    Beltre    0.232273    1       True\n",
       "135  kinslia01        Ian   Kinsler    0.211539    1       True\n",
       "181  panikjo01        Joe     Panik    0.147184    1       True\n",
       "166  morelmi01      Mitch  Moreland    0.042088    1       True"
      ]
     },
     "execution_count": 18,
     "metadata": {},
     "output_type": "execute_result"
    }
   ],
   "source": [
    "disp = [\"playerID\",\"nameFirst\",\"nameLast\",\"win_chance\",\"won\",\"nominated\"]\n",
    "df_t[(df_t.won==1)].sort_values(by=\"win_chance\", ascending=False)[disp]"
   ]
  },
  {
   "cell_type": "markdown",
   "metadata": {},
   "source": [
    "Winning chances (according to the model) of those nominated, but not having won"
   ]
  },
  {
   "cell_type": "code",
   "execution_count": 19,
   "metadata": {},
   "outputs": [
    {
     "data": {
      "text/html": [
       "<div>\n",
       "<style>\n",
       "    .dataframe thead tr:only-child th {\n",
       "        text-align: right;\n",
       "    }\n",
       "\n",
       "    .dataframe thead th {\n",
       "        text-align: left;\n",
       "    }\n",
       "\n",
       "    .dataframe tbody tr th {\n",
       "        vertical-align: top;\n",
       "    }\n",
       "</style>\n",
       "<table border=\"1\" class=\"dataframe\">\n",
       "  <thead>\n",
       "    <tr style=\"text-align: right;\">\n",
       "      <th></th>\n",
       "      <th>playerID</th>\n",
       "      <th>nameFirst</th>\n",
       "      <th>nameLast</th>\n",
       "      <th>win_chance</th>\n",
       "      <th>won</th>\n",
       "      <th>nominated</th>\n",
       "    </tr>\n",
       "  </thead>\n",
       "  <tbody>\n",
       "    <tr>\n",
       "      <th>186</th>\n",
       "      <td>pedrodu01</td>\n",
       "      <td>Dustin</td>\n",
       "      <td>Pedroia</td>\n",
       "      <td>0.618916</td>\n",
       "      <td>0</td>\n",
       "      <td>True</td>\n",
       "    </tr>\n",
       "    <tr>\n",
       "      <th>100</th>\n",
       "      <td>goldspa01</td>\n",
       "      <td>Paul</td>\n",
       "      <td>Goldschmidt</td>\n",
       "      <td>0.487368</td>\n",
       "      <td>0</td>\n",
       "      <td>True</td>\n",
       "    </tr>\n",
       "    <tr>\n",
       "      <th>42</th>\n",
       "      <td>canoro01</td>\n",
       "      <td>Robinson</td>\n",
       "      <td>Cano</td>\n",
       "      <td>0.484005</td>\n",
       "      <td>0</td>\n",
       "      <td>True</td>\n",
       "    </tr>\n",
       "    <tr>\n",
       "      <th>143</th>\n",
       "      <td>lemahdj01</td>\n",
       "      <td>DJ</td>\n",
       "      <td>LeMahieu</td>\n",
       "      <td>0.367970</td>\n",
       "      <td>0</td>\n",
       "      <td>True</td>\n",
       "    </tr>\n",
       "    <tr>\n",
       "      <th>241</th>\n",
       "      <td>seageky01</td>\n",
       "      <td>Kyle</td>\n",
       "      <td>Seager</td>\n",
       "      <td>0.242387</td>\n",
       "      <td>0</td>\n",
       "      <td>True</td>\n",
       "    </tr>\n",
       "    <tr>\n",
       "      <th>209</th>\n",
       "      <td>rendoan01</td>\n",
       "      <td>Anthony</td>\n",
       "      <td>Rendon</td>\n",
       "      <td>0.115407</td>\n",
       "      <td>0</td>\n",
       "      <td>True</td>\n",
       "    </tr>\n",
       "    <tr>\n",
       "      <th>150</th>\n",
       "      <td>machama01</td>\n",
       "      <td>Manny</td>\n",
       "      <td>Machado</td>\n",
       "      <td>0.111777</td>\n",
       "      <td>0</td>\n",
       "      <td>True</td>\n",
       "    </tr>\n",
       "    <tr>\n",
       "      <th>172</th>\n",
       "      <td>myerswi01</td>\n",
       "      <td>Wil</td>\n",
       "      <td>Myers</td>\n",
       "      <td>0.105766</td>\n",
       "      <td>0</td>\n",
       "      <td>True</td>\n",
       "    </tr>\n",
       "    <tr>\n",
       "      <th>120</th>\n",
       "      <td>hosmeer01</td>\n",
       "      <td>Eric</td>\n",
       "      <td>Hosmer</td>\n",
       "      <td>0.086189</td>\n",
       "      <td>0</td>\n",
       "      <td>True</td>\n",
       "    </tr>\n",
       "    <tr>\n",
       "      <th>93</th>\n",
       "      <td>galvifr01</td>\n",
       "      <td>Freddy</td>\n",
       "      <td>Galvis</td>\n",
       "      <td>0.076037</td>\n",
       "      <td>0</td>\n",
       "      <td>True</td>\n",
       "    </tr>\n",
       "    <tr>\n",
       "      <th>227</th>\n",
       "      <td>russead02</td>\n",
       "      <td>Addison</td>\n",
       "      <td>Russell</td>\n",
       "      <td>0.073336</td>\n",
       "      <td>0</td>\n",
       "      <td>True</td>\n",
       "    </tr>\n",
       "    <tr>\n",
       "      <th>122</th>\n",
       "      <td>iglesjo01</td>\n",
       "      <td>Jose</td>\n",
       "      <td>Iglesias</td>\n",
       "      <td>0.058440</td>\n",
       "      <td>0</td>\n",
       "      <td>True</td>\n",
       "    </tr>\n",
       "    <tr>\n",
       "      <th>242</th>\n",
       "      <td>segurje01</td>\n",
       "      <td>Jean</td>\n",
       "      <td>Segura</td>\n",
       "      <td>0.041581</td>\n",
       "      <td>0</td>\n",
       "      <td>True</td>\n",
       "    </tr>\n",
       "    <tr>\n",
       "      <th>246</th>\n",
       "      <td>simmoan01</td>\n",
       "      <td>Andrelton</td>\n",
       "      <td>Simmons</td>\n",
       "      <td>0.033597</td>\n",
       "      <td>0</td>\n",
       "      <td>True</td>\n",
       "    </tr>\n",
       "    <tr>\n",
       "      <th>262</th>\n",
       "      <td>turneju01</td>\n",
       "      <td>Justin</td>\n",
       "      <td>Turner</td>\n",
       "      <td>0.032355</td>\n",
       "      <td>0</td>\n",
       "      <td>True</td>\n",
       "    </tr>\n",
       "    <tr>\n",
       "      <th>61</th>\n",
       "      <td>davisch02</td>\n",
       "      <td>Chris</td>\n",
       "      <td>Davis</td>\n",
       "      <td>0.028517</td>\n",
       "      <td>0</td>\n",
       "      <td>True</td>\n",
       "    </tr>\n",
       "  </tbody>\n",
       "</table>\n",
       "</div>"
      ],
      "text/plain": [
       "      playerID  nameFirst     nameLast  win_chance  won  nominated\n",
       "186  pedrodu01     Dustin      Pedroia    0.618916    0       True\n",
       "100  goldspa01       Paul  Goldschmidt    0.487368    0       True\n",
       "42    canoro01   Robinson         Cano    0.484005    0       True\n",
       "143  lemahdj01         DJ     LeMahieu    0.367970    0       True\n",
       "241  seageky01       Kyle       Seager    0.242387    0       True\n",
       "209  rendoan01    Anthony       Rendon    0.115407    0       True\n",
       "150  machama01      Manny      Machado    0.111777    0       True\n",
       "172  myerswi01        Wil        Myers    0.105766    0       True\n",
       "120  hosmeer01       Eric       Hosmer    0.086189    0       True\n",
       "93   galvifr01     Freddy       Galvis    0.076037    0       True\n",
       "227  russead02    Addison      Russell    0.073336    0       True\n",
       "122  iglesjo01       Jose     Iglesias    0.058440    0       True\n",
       "242  segurje01       Jean       Segura    0.041581    0       True\n",
       "246  simmoan01  Andrelton      Simmons    0.033597    0       True\n",
       "262  turneju01     Justin       Turner    0.032355    0       True\n",
       "61   davisch02      Chris        Davis    0.028517    0       True"
      ]
     },
     "execution_count": 19,
     "metadata": {},
     "output_type": "execute_result"
    }
   ],
   "source": [
    "df_t[(df_t.won==0)&(df_t.nominated)].sort_values(by=\"win_chance\", ascending=False)[disp]"
   ]
  },
  {
   "cell_type": "markdown",
   "metadata": {},
   "source": [
    "Players that should have been nominated given their performance"
   ]
  },
  {
   "cell_type": "code",
   "execution_count": 20,
   "metadata": {},
   "outputs": [
    {
     "data": {
      "text/html": [
       "<div>\n",
       "<style>\n",
       "    .dataframe thead tr:only-child th {\n",
       "        text-align: right;\n",
       "    }\n",
       "\n",
       "    .dataframe thead th {\n",
       "        text-align: left;\n",
       "    }\n",
       "\n",
       "    .dataframe tbody tr th {\n",
       "        vertical-align: top;\n",
       "    }\n",
       "</style>\n",
       "<table border=\"1\" class=\"dataframe\">\n",
       "  <thead>\n",
       "    <tr style=\"text-align: right;\">\n",
       "      <th></th>\n",
       "      <th>playerID</th>\n",
       "      <th>nameFirst</th>\n",
       "      <th>nameLast</th>\n",
       "      <th>win_chance</th>\n",
       "      <th>won</th>\n",
       "      <th>nominated</th>\n",
       "    </tr>\n",
       "  </thead>\n",
       "  <tbody>\n",
       "    <tr>\n",
       "      <th>9</th>\n",
       "      <td>altuvjo01</td>\n",
       "      <td>Jose</td>\n",
       "      <td>Altuve</td>\n",
       "      <td>0.618768</td>\n",
       "      <td>0</td>\n",
       "      <td>False</td>\n",
       "    </tr>\n",
       "    <tr>\n",
       "      <th>89</th>\n",
       "      <td>freemfr01</td>\n",
       "      <td>Freddie</td>\n",
       "      <td>Freeman</td>\n",
       "      <td>0.319979</td>\n",
       "      <td>0</td>\n",
       "      <td>False</td>\n",
       "    </tr>\n",
       "    <tr>\n",
       "      <th>101</th>\n",
       "      <td>gonzaad01</td>\n",
       "      <td>Adrian</td>\n",
       "      <td>Gonzalez</td>\n",
       "      <td>0.257124</td>\n",
       "      <td>0</td>\n",
       "      <td>False</td>\n",
       "    </tr>\n",
       "    <tr>\n",
       "      <th>53</th>\n",
       "      <td>correca01</td>\n",
       "      <td>Carlos</td>\n",
       "      <td>Correa</td>\n",
       "      <td>0.247477</td>\n",
       "      <td>0</td>\n",
       "      <td>False</td>\n",
       "    </tr>\n",
       "  </tbody>\n",
       "</table>\n",
       "</div>"
      ],
      "text/plain": [
       "      playerID nameFirst  nameLast  win_chance  won  nominated\n",
       "9    altuvjo01      Jose    Altuve    0.618768    0      False\n",
       "89   freemfr01   Freddie   Freeman    0.319979    0      False\n",
       "101  gonzaad01    Adrian  Gonzalez    0.257124    0      False\n",
       "53   correca01    Carlos    Correa    0.247477    0      False"
      ]
     },
     "execution_count": 20,
     "metadata": {},
     "output_type": "execute_result"
    }
   ],
   "source": [
    "df_nominandum = df_t[(df_t.nominated==False) & (df_t.win_chance>df_t[df_t.nominated==True][\"win_chance\"].mean())]\n",
    "df_nominandum.sort_values(by=\"win_chance\", ascending=False)[disp]"
   ]
  },
  {
   "cell_type": "markdown",
   "metadata": {},
   "source": [
    "Have these guys won before?"
   ]
  },
  {
   "cell_type": "code",
   "execution_count": 21,
   "metadata": {},
   "outputs": [
    {
     "data": {
      "text/html": [
       "<div>\n",
       "<style>\n",
       "    .dataframe thead tr:only-child th {\n",
       "        text-align: right;\n",
       "    }\n",
       "\n",
       "    .dataframe thead th {\n",
       "        text-align: left;\n",
       "    }\n",
       "\n",
       "    .dataframe tbody tr th {\n",
       "        vertical-align: top;\n",
       "    }\n",
       "</style>\n",
       "<table border=\"1\" class=\"dataframe\">\n",
       "  <thead>\n",
       "    <tr style=\"text-align: right;\">\n",
       "      <th></th>\n",
       "      <th></th>\n",
       "      <th></th>\n",
       "      <th>has_won_GG_earlier</th>\n",
       "      <th>number_of_wins</th>\n",
       "    </tr>\n",
       "    <tr>\n",
       "      <th>playerID</th>\n",
       "      <th>nameFirst</th>\n",
       "      <th>nameLast</th>\n",
       "      <th></th>\n",
       "      <th></th>\n",
       "    </tr>\n",
       "  </thead>\n",
       "  <tbody>\n",
       "    <tr>\n",
       "      <th>gonzaad01</th>\n",
       "      <th>Adrian</th>\n",
       "      <th>Gonzalez</th>\n",
       "      <td>True</td>\n",
       "      <td>4</td>\n",
       "    </tr>\n",
       "    <tr>\n",
       "      <th>altuvjo01</th>\n",
       "      <th>Jose</th>\n",
       "      <th>Altuve</th>\n",
       "      <td>True</td>\n",
       "      <td>1</td>\n",
       "    </tr>\n",
       "    <tr>\n",
       "      <th>correca01</th>\n",
       "      <th>Carlos</th>\n",
       "      <th>Correa</th>\n",
       "      <td>False</td>\n",
       "      <td>0</td>\n",
       "    </tr>\n",
       "    <tr>\n",
       "      <th>freemfr01</th>\n",
       "      <th>Freddie</th>\n",
       "      <th>Freeman</th>\n",
       "      <td>False</td>\n",
       "      <td>0</td>\n",
       "    </tr>\n",
       "  </tbody>\n",
       "</table>\n",
       "</div>"
      ],
      "text/plain": [
       "                              has_won_GG_earlier  number_of_wins\n",
       "playerID  nameFirst nameLast                                    \n",
       "gonzaad01 Adrian    Gonzalez                True               4\n",
       "altuvjo01 Jose      Altuve                  True               1\n",
       "correca01 Carlos    Correa                 False               0\n",
       "freemfr01 Freddie   Freeman                False               0"
      ]
     },
     "execution_count": 21,
     "metadata": {},
     "output_type": "execute_result"
    }
   ],
   "source": [
    "df_earlier_wins= pd.merge(df_nominandum[['playerID']], df_train, on=['playerID','playerID'], how='inner')[[\"playerID\",'nameFirst','nameLast',\"won\",\"stat_year\"]]\n",
    "df_earlier_wins= df_earlier_wins.groupby(['playerID','nameFirst','nameLast']).sum()\n",
    "del df_earlier_wins[\"stat_year\"]\n",
    "df_earlier_wins[\"has_won_GG_earlier\"] = (df_earlier_wins[\"won\"]>0)\n",
    "\n",
    "df_earlier_wins[\"number_of_wins\"] = df_earlier_wins.pop(\"won\")\n",
    "df_earlier_wins.sort_values(by='number_of_wins',ascending=False)"
   ]
  },
  {
   "cell_type": "code",
   "execution_count": 23,
   "metadata": {},
   "outputs": [
    {
     "ename": "ExecutableNotFound",
     "evalue": "failed to execute ['dot', '-Tpng'], make sure the Graphviz executables are on your systems' PATH",
     "output_type": "error",
     "traceback": [
      "\u001b[1;31m---------------------------------------------------------------------------\u001b[0m",
      "\u001b[1;31mFileNotFoundError\u001b[0m                         Traceback (most recent call last)",
      "\u001b[1;32mC:\\Users\\Simon Wintels\\AppData\\Local\\Continuum\\Anaconda3\\lib\\site-packages\\graphviz\\backend.py\u001b[0m in \u001b[0;36mpipe\u001b[1;34m(engine, format, data, quiet)\u001b[0m\n\u001b[0;32m    153\u001b[0m             \u001b[0mstdout\u001b[0m\u001b[1;33m=\u001b[0m\u001b[0msubprocess\u001b[0m\u001b[1;33m.\u001b[0m\u001b[0mPIPE\u001b[0m\u001b[1;33m,\u001b[0m \u001b[0mstderr\u001b[0m\u001b[1;33m=\u001b[0m\u001b[0msubprocess\u001b[0m\u001b[1;33m.\u001b[0m\u001b[0mPIPE\u001b[0m\u001b[1;33m,\u001b[0m\u001b[1;33m\u001b[0m\u001b[0m\n\u001b[1;32m--> 154\u001b[1;33m             startupinfo=STARTUPINFO)\n\u001b[0m\u001b[0;32m    155\u001b[0m     \u001b[1;32mexcept\u001b[0m \u001b[0mOSError\u001b[0m \u001b[1;32mas\u001b[0m \u001b[0me\u001b[0m\u001b[1;33m:\u001b[0m\u001b[1;33m\u001b[0m\u001b[0m\n",
      "\u001b[1;32mC:\\Users\\Simon Wintels\\AppData\\Local\\Continuum\\Anaconda3\\lib\\subprocess.py\u001b[0m in \u001b[0;36m__init__\u001b[1;34m(self, args, bufsize, executable, stdin, stdout, stderr, preexec_fn, close_fds, shell, cwd, env, universal_newlines, startupinfo, creationflags, restore_signals, start_new_session, pass_fds, encoding, errors)\u001b[0m\n\u001b[0;32m    706\u001b[0m                                 \u001b[0merrread\u001b[0m\u001b[1;33m,\u001b[0m \u001b[0merrwrite\u001b[0m\u001b[1;33m,\u001b[0m\u001b[1;33m\u001b[0m\u001b[0m\n\u001b[1;32m--> 707\u001b[1;33m                                 restore_signals, start_new_session)\n\u001b[0m\u001b[0;32m    708\u001b[0m         \u001b[1;32mexcept\u001b[0m\u001b[1;33m:\u001b[0m\u001b[1;33m\u001b[0m\u001b[0m\n",
      "\u001b[1;32mC:\\Users\\Simon Wintels\\AppData\\Local\\Continuum\\Anaconda3\\lib\\subprocess.py\u001b[0m in \u001b[0;36m_execute_child\u001b[1;34m(self, args, executable, preexec_fn, close_fds, pass_fds, cwd, env, startupinfo, creationflags, shell, p2cread, p2cwrite, c2pread, c2pwrite, errread, errwrite, unused_restore_signals, unused_start_new_session)\u001b[0m\n\u001b[0;32m    989\u001b[0m                                          \u001b[0mcwd\u001b[0m\u001b[1;33m,\u001b[0m\u001b[1;33m\u001b[0m\u001b[0m\n\u001b[1;32m--> 990\u001b[1;33m                                          startupinfo)\n\u001b[0m\u001b[0;32m    991\u001b[0m             \u001b[1;32mfinally\u001b[0m\u001b[1;33m:\u001b[0m\u001b[1;33m\u001b[0m\u001b[0m\n",
      "\u001b[1;31mFileNotFoundError\u001b[0m: [WinError 2] The system cannot find the file specified",
      "\nDuring handling of the above exception, another exception occurred:\n",
      "\u001b[1;31mExecutableNotFound\u001b[0m                        Traceback (most recent call last)",
      "\u001b[1;32m<ipython-input-23-58e8db1d410f>\u001b[0m in \u001b[0;36m<module>\u001b[1;34m()\u001b[0m\n\u001b[1;32m----> 1\u001b[1;33m \u001b[0mplot_tree\u001b[0m\u001b[1;33m(\u001b[0m\u001b[0mmodel\u001b[0m\u001b[1;33m)\u001b[0m\u001b[1;33m\u001b[0m\u001b[0m\n\u001b[0m",
      "\u001b[1;32mC:\\Users\\Simon Wintels\\AppData\\Local\\Continuum\\Anaconda3\\lib\\site-packages\\xgboost\\plotting.py\u001b[0m in \u001b[0;36mplot_tree\u001b[1;34m(booster, num_trees, rankdir, ax, **kwargs)\u001b[0m\n\u001b[0;32m    246\u001b[0m \u001b[1;33m\u001b[0m\u001b[0m\n\u001b[0;32m    247\u001b[0m     \u001b[0ms\u001b[0m \u001b[1;33m=\u001b[0m \u001b[0mBytesIO\u001b[0m\u001b[1;33m(\u001b[0m\u001b[1;33m)\u001b[0m\u001b[1;33m\u001b[0m\u001b[0m\n\u001b[1;32m--> 248\u001b[1;33m     \u001b[0ms\u001b[0m\u001b[1;33m.\u001b[0m\u001b[0mwrite\u001b[0m\u001b[1;33m(\u001b[0m\u001b[0mg\u001b[0m\u001b[1;33m.\u001b[0m\u001b[0mpipe\u001b[0m\u001b[1;33m(\u001b[0m\u001b[0mformat\u001b[0m\u001b[1;33m=\u001b[0m\u001b[1;34m'png'\u001b[0m\u001b[1;33m)\u001b[0m\u001b[1;33m)\u001b[0m\u001b[1;33m\u001b[0m\u001b[0m\n\u001b[0m\u001b[0;32m    249\u001b[0m     \u001b[0ms\u001b[0m\u001b[1;33m.\u001b[0m\u001b[0mseek\u001b[0m\u001b[1;33m(\u001b[0m\u001b[1;36m0\u001b[0m\u001b[1;33m)\u001b[0m\u001b[1;33m\u001b[0m\u001b[0m\n\u001b[0;32m    250\u001b[0m     \u001b[0mimg\u001b[0m \u001b[1;33m=\u001b[0m \u001b[0mimage\u001b[0m\u001b[1;33m.\u001b[0m\u001b[0mimread\u001b[0m\u001b[1;33m(\u001b[0m\u001b[0ms\u001b[0m\u001b[1;33m)\u001b[0m\u001b[1;33m\u001b[0m\u001b[0m\n",
      "\u001b[1;32mC:\\Users\\Simon Wintels\\AppData\\Local\\Continuum\\Anaconda3\\lib\\site-packages\\graphviz\\files.py\u001b[0m in \u001b[0;36mpipe\u001b[1;34m(self, format)\u001b[0m\n\u001b[0;32m    118\u001b[0m         \u001b[0mdata\u001b[0m \u001b[1;33m=\u001b[0m \u001b[0mtext_type\u001b[0m\u001b[1;33m(\u001b[0m\u001b[0mself\u001b[0m\u001b[1;33m.\u001b[0m\u001b[0msource\u001b[0m\u001b[1;33m)\u001b[0m\u001b[1;33m.\u001b[0m\u001b[0mencode\u001b[0m\u001b[1;33m(\u001b[0m\u001b[0mself\u001b[0m\u001b[1;33m.\u001b[0m\u001b[0m_encoding\u001b[0m\u001b[1;33m)\u001b[0m\u001b[1;33m\u001b[0m\u001b[0m\n\u001b[0;32m    119\u001b[0m \u001b[1;33m\u001b[0m\u001b[0m\n\u001b[1;32m--> 120\u001b[1;33m         \u001b[0mouts\u001b[0m \u001b[1;33m=\u001b[0m \u001b[0mbackend\u001b[0m\u001b[1;33m.\u001b[0m\u001b[0mpipe\u001b[0m\u001b[1;33m(\u001b[0m\u001b[0mself\u001b[0m\u001b[1;33m.\u001b[0m\u001b[0m_engine\u001b[0m\u001b[1;33m,\u001b[0m \u001b[0mformat\u001b[0m\u001b[1;33m,\u001b[0m \u001b[0mdata\u001b[0m\u001b[1;33m)\u001b[0m\u001b[1;33m\u001b[0m\u001b[0m\n\u001b[0m\u001b[0;32m    121\u001b[0m \u001b[1;33m\u001b[0m\u001b[0m\n\u001b[0;32m    122\u001b[0m         \u001b[1;32mreturn\u001b[0m \u001b[0mouts\u001b[0m\u001b[1;33m\u001b[0m\u001b[0m\n",
      "\u001b[1;32mC:\\Users\\Simon Wintels\\AppData\\Local\\Continuum\\Anaconda3\\lib\\site-packages\\graphviz\\backend.py\u001b[0m in \u001b[0;36mpipe\u001b[1;34m(engine, format, data, quiet)\u001b[0m\n\u001b[0;32m    155\u001b[0m     \u001b[1;32mexcept\u001b[0m \u001b[0mOSError\u001b[0m \u001b[1;32mas\u001b[0m \u001b[0me\u001b[0m\u001b[1;33m:\u001b[0m\u001b[1;33m\u001b[0m\u001b[0m\n\u001b[0;32m    156\u001b[0m         \u001b[1;32mif\u001b[0m \u001b[0me\u001b[0m\u001b[1;33m.\u001b[0m\u001b[0merrno\u001b[0m \u001b[1;33m==\u001b[0m \u001b[0merrno\u001b[0m\u001b[1;33m.\u001b[0m\u001b[0mENOENT\u001b[0m\u001b[1;33m:\u001b[0m\u001b[1;33m\u001b[0m\u001b[0m\n\u001b[1;32m--> 157\u001b[1;33m             \u001b[1;32mraise\u001b[0m \u001b[0mExecutableNotFound\u001b[0m\u001b[1;33m(\u001b[0m\u001b[0margs\u001b[0m\u001b[1;33m)\u001b[0m\u001b[1;33m\u001b[0m\u001b[0m\n\u001b[0m\u001b[0;32m    158\u001b[0m         \u001b[1;32melse\u001b[0m\u001b[1;33m:\u001b[0m  \u001b[1;31m# pragma: no cover\u001b[0m\u001b[1;33m\u001b[0m\u001b[0m\n\u001b[0;32m    159\u001b[0m             \u001b[1;32mraise\u001b[0m\u001b[1;33m\u001b[0m\u001b[0m\n",
      "\u001b[1;31mExecutableNotFound\u001b[0m: failed to execute ['dot', '-Tpng'], make sure the Graphviz executables are on your systems' PATH"
     ]
    },
    {
     "data": {
      "image/png": "[encoded data removed]",
      "text/plain": [
       "<matplotlib.figure.Figure at 0xae08093390>"
      ]
     },
     "metadata": {},
     "output_type": "display_data"
    }
   ],
   "source": [
    "plot_tree(model)"
   ]
  },
  {
   "cell_type": "code",
   "execution_count": null,
   "metadata": {
    "collapsed": true
   },
   "outputs": [],
   "source": []
  }
 ],
 "metadata": {
  "kernelspec": {
   "display_name": "Python 3",
   "language": "python",
   "name": "python3"
  },
  "language_info": {
   "codemirror_mode": {
    "name": "ipython",
    "version": 3
   },
   "file_extension": ".py",
   "mimetype": "text/x-python",
   "name": "python",
   "nbconvert_exporter": "python",
   "pygments_lexer": "ipython3",
   "version": "3.6.1"
  }
 },
 "nbformat": 4,
 "nbformat_minor": 2
}
